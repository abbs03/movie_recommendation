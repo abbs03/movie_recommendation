{
 "cells": [
  {
   "cell_type": "markdown",
   "metadata": {},
   "source": [
    "### Dataset: The Movies Dataset\n",
    "\n",
    "[Click here to access the dataset on Kaggle](https://www.kaggle.com/datasets/rounakbanik/the-movies-dataset)\n",
    "\n",
    "#### Description:\n",
    "This dataset contains metadata for thousands of movies, including genres, cast, crew, keywords, production companies, and user ratings.\n"
   ]
  },
  {
   "cell_type": "code",
   "execution_count": 9,
   "metadata": {},
   "outputs": [],
   "source": [
    "import pandas as pd\n",
    "import numpy as np\n",
    "from ast import literal_eval\n",
    "\n",
    "import warnings\n",
    "warnings.filterwarnings('ignore')"
   ]
  },
  {
   "cell_type": "code",
   "execution_count": 39,
   "metadata": {},
   "outputs": [],
   "source": [
    "movies_meta = pd.read_csv('large_dataset/movies_metadata.csv')\n",
    "credits = pd.read_csv('large_dataset/credits.csv')\n",
    "\n",
    "ratings = pd.read_csv('large_dataset/ratings.csv')"
   ]
  },
  {
   "cell_type": "code",
   "execution_count": 49,
   "metadata": {},
   "outputs": [],
   "source": [
    "movies_meta['title'] = movies_meta['title'] + ' '+ movies_meta['release_date'].fillna('NA').apply(lambda x: x[:4])\n",
    "\n",
    "movies_meta['genres'] = movies_meta['genres'].fillna('[]').apply(literal_eval).apply(lambda x: [i['name'] for i in x] if isinstance(x, list) else [])\n",
    "movies_meta['genres'] = movies_meta['genres'].apply(lambda x: 'genres : ' + ' '.join(x))"
   ]
  },
  {
   "cell_type": "code",
   "execution_count": 51,
   "metadata": {},
   "outputs": [],
   "source": [
    "def get_director(x):\n",
    "    for i in x:\n",
    "        if i['job'] == 'Director':\n",
    "            return i['name']\n",
    "    return np.nan\n",
    "\n",
    "credits['director'] = credits['crew'].apply(literal_eval).apply(get_director)\n",
    "credits['cast'] = credits['cast'].apply(literal_eval).apply(lambda x: [x[i]['name'] for i in range(min(len(x), 3))] if isinstance(x, list) else ['Not Available/'])"
   ]
  },
  {
   "cell_type": "code",
   "execution_count": 53,
   "metadata": {},
   "outputs": [],
   "source": [
    "movies_meta = movies_meta[['id','title','genres','overview','vote_average','vote_count']]\n",
    "\n",
    "movies_meta['id'] = pd.to_numeric(movies_meta['id'], errors='coerce')\n",
    "credits['id'] = pd.to_numeric(credits['id'], errors='coerce')\n",
    "credits['cast'] = credits['cast'].apply(lambda x: ', '.join(x) if isinstance(x, list) else x)\n",
    "\n",
    "movies_meta = pd.merge(left = movies_meta, right = credits[['cast','director','id']], on='id', how='left').dropna().drop_duplicates()"
   ]
  },
  {
   "cell_type": "code",
   "execution_count": 18,
   "metadata": {},
   "outputs": [],
   "source": [
    "movies_meta['movie_genra_crew'] = movies_meta['genres'] + '. Director: ' + movies_meta['director'] + '. Cast: ' + movies_meta['cast'].apply( lambda x: ' '.join(x) if isinstance(x, list) else '')\n",
    "movies_meta['movie_genra_crew'] = movies_meta['movie_genra_crew'].fillna('').astype(str)\n",
    "\n",
    "movies_meta['overview'] = movies_meta['overview'].fillna('No desscription').astype(str)\n",
    "ratings = ratings[ratings['movieId'].isin(movies_meta['id'])]"
   ]
  },
  {
   "cell_type": "code",
   "execution_count": null,
   "metadata": {},
   "outputs": [],
   "source": [
    "mid_to_idx = {mid:idx for idx, mid in enumerate(movies_meta['id'].unique())}\n",
    "movies_meta['id'] = movies_meta['id'].apply(lambda x: mid_to_idx[x])\n",
    "ratings['movieId'] = ratings['movieId'].apply(lambda x: mid_to_idx[x])\n",
    "\n",
    "userid_to_idx = {uid:idx for idx, uid in enumerate(ratings['userId'].unique())}\n",
    "ratings['userId'] = ratings['userId'].apply(lambda x: userid_to_idx[x])"
   ]
  },
  {
   "cell_type": "code",
   "execution_count": 74,
   "metadata": {},
   "outputs": [],
   "source": [
    "movies_meta.to_csv('movies_data.csv', index=False)\n",
    "ratings.to_csv('ratings_data.csv', index=False)"
   ]
  }
 ],
 "metadata": {
  "kernelspec": {
   "display_name": "cuda_env",
   "language": "python",
   "name": "python3"
  },
  "language_info": {
   "codemirror_mode": {
    "name": "ipython",
    "version": 3
   },
   "file_extension": ".py",
   "mimetype": "text/x-python",
   "name": "python",
   "nbconvert_exporter": "python",
   "pygments_lexer": "ipython3",
   "version": "3.11.7"
  }
 },
 "nbformat": 4,
 "nbformat_minor": 2
}
