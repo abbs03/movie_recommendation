{
 "cells": [
  {
   "cell_type": "code",
   "execution_count": 1,
   "metadata": {},
   "outputs": [
    {
     "name": "stderr",
     "output_type": "stream",
     "text": [
      "c:\\Users\\abina\\anaconda3\\envs\\cuda_env\\Lib\\site-packages\\tqdm\\auto.py:21: TqdmWarning: IProgress not found. Please update jupyter and ipywidgets. See https://ipywidgets.readthedocs.io/en/stable/user_install.html\n",
      "  from .autonotebook import tqdm as notebook_tqdm\n"
     ]
    },
    {
     "name": "stdout",
     "output_type": "stream",
     "text": [
      "WARNING:tensorflow:From c:\\Users\\abina\\anaconda3\\envs\\cuda_env\\Lib\\site-packages\\keras\\src\\losses.py:2976: The name tf.losses.sparse_softmax_cross_entropy is deprecated. Please use tf.compat.v1.losses.sparse_softmax_cross_entropy instead.\n",
      "\n"
     ]
    }
   ],
   "source": [
    "import pandas as pd\n",
    "import numpy as np\n",
    "import torch\n",
    "\n",
    "from sentence_transformers import SentenceTransformer\n",
    "from sklearn.metrics.pairwise import cosine_similarity"
   ]
  },
  {
   "cell_type": "code",
   "execution_count": 2,
   "metadata": {},
   "outputs": [],
   "source": [
    "movies = pd.read_csv('movies_data.csv')\n",
    "ratings = pd.read_csv('ratings_data.csv')"
   ]
  },
  {
   "cell_type": "code",
   "execution_count": 3,
   "metadata": {},
   "outputs": [
    {
     "name": "stderr",
     "output_type": "stream",
     "text": [
      "c:\\Users\\abina\\anaconda3\\envs\\cuda_env\\Lib\\site-packages\\transformers\\tokenization_utils_base.py:1601: FutureWarning: `clean_up_tokenization_spaces` was not set. It will be set to `True` by default. This behavior will be depracted in transformers v4.45, and will be then set to `False` by default. For more details check this issue: https://github.com/huggingface/transformers/issues/31884\n",
      "  warnings.warn(\n"
     ]
    }
   ],
   "source": [
    "\n",
    "model = SentenceTransformer('all-MiniLM-L6-v2') \n",
    "def get_embeddings(text):\n",
    "    return model.encode(text) "
   ]
  },
  {
   "cell_type": "code",
   "execution_count": 4,
   "metadata": {},
   "outputs": [],
   "source": [
    "movies['genra_crew'] = movies['genres'].fillna('NA') + '. Director: ' + movies['director'].fillna('NA') + '. Cast: ' + movies['cast'].fillna('NA')\n",
    "movies['overview'] = movies['overview'].fillna('NA')"
   ]
  },
  {
   "cell_type": "code",
   "execution_count": 5,
   "metadata": {},
   "outputs": [],
   "source": [
    "genra_crew_embeddings = np.apply_along_axis(get_embeddings, axis = 0,arr = movies['genra_crew'].values)\n",
    "movie_overview_embeddings = np.apply_along_axis(get_embeddings, axis = 0,arr = movies['overview'].values)"
   ]
  },
  {
   "cell_type": "code",
   "execution_count": 6,
   "metadata": {},
   "outputs": [],
   "source": [
    "overall_embedding = genra_crew_embeddings + movie_overview_embeddings"
   ]
  },
  {
   "cell_type": "code",
   "execution_count": 7,
   "metadata": {},
   "outputs": [],
   "source": [
    "from sklearn.metrics.pairwise import cosine_similarity\n",
    "\n",
    "cos_sim  = cosine_similarity(overall_embedding)"
   ]
  },
  {
   "cell_type": "code",
   "execution_count": 8,
   "metadata": {},
   "outputs": [],
   "source": [
    "#np.save('parameters/content_based_sims.npy', cos_sim)"
   ]
  },
  {
   "cell_type": "code",
   "execution_count": 13,
   "metadata": {},
   "outputs": [],
   "source": [
    "def recommend(movie, df):\n",
    "    idx = df[df['title']==movie].index[0]\n",
    "    \n",
    "    top = sorted(list(enumerate(cos_sim[idx])), key= lambda x: -x[1])[1:10]\n",
    "    top_movie_title = [movie[0] for movie in top]\n",
    "\n",
    "    \n",
    "    reco = df[df['id'].isin(top_movie_title)]\n",
    "    reco = reco[reco['vote_count']>50].sort_values(by = 'vote_average', ascending = False)\n",
    "    reco = reco['title'].tolist()\n",
    "    \n",
    "\n",
    "    return reco"
   ]
  },
  {
   "cell_type": "code",
   "execution_count": 14,
   "metadata": {},
   "outputs": [],
   "source": [
    "m = 'Star Wars: Episode I - The Phantom Menace 1999'"
   ]
  },
  {
   "cell_type": "code",
   "execution_count": 15,
   "metadata": {},
   "outputs": [
    {
     "data": {
      "text/plain": [
       "['The Empire Strikes Back 1980',\n",
       " 'Star Wars 1977',\n",
       " 'Return of the Jedi 1983',\n",
       " 'Indiana Jones and the Temple of Doom 1984',\n",
       " 'Star Wars: Episode III - Revenge of the Sith 2005',\n",
       " 'Star Wars: Episode II - Attack of the Clones 2002',\n",
       " 'Star Wars: The Clone Wars 2008',\n",
       " 'Ben-Hur 2016']"
      ]
     },
     "execution_count": 15,
     "metadata": {},
     "output_type": "execute_result"
    }
   ],
   "source": [
    "recommend(m, movies)"
   ]
  },
  {
   "cell_type": "code",
   "execution_count": 12,
   "metadata": {},
   "outputs": [
    {
     "name": "stderr",
     "output_type": "stream",
     "text": [
      "c:\\Users\\abina\\anaconda3\\envs\\cuda_env\\Lib\\site-packages\\fuzzywuzzy\\fuzz.py:11: UserWarning: Using slow pure-python SequenceMatcher. Install python-Levenshtein to remove this warning\n",
      "  warnings.warn('Using slow pure-python SequenceMatcher. Install python-Levenshtein to remove this warning')\n"
     ]
    },
    {
     "data": {
      "text/plain": [
       "[('Star Wars 1977', 90),\n",
       " ('Star Wars: Episode I - The Phantom Menace 1999', 90),\n",
       " ('Star Wars: Episode II - Attack of the Clones 2002', 90),\n",
       " ('Star Wars: Episode III - Revenge of the Sith 2005', 90),\n",
       " ('Star Wars: The Clone Wars 2008', 90)]"
      ]
     },
     "execution_count": 12,
     "metadata": {},
     "output_type": "execute_result"
    }
   ],
   "source": [
    "from fuzzywuzzy import process\n",
    "\n",
    "def get_top_similar_strings(target, string_list, top_n=5):\n",
    "    top_matches = process.extract(target, string_list, limit=top_n)\n",
    "    return top_matches\n",
    "\n",
    "get_top_similar_strings('star wars', movies.title.tolist())"
   ]
  }
 ],
 "metadata": {
  "kernelspec": {
   "display_name": "cuda_env",
   "language": "python",
   "name": "python3"
  },
  "language_info": {
   "codemirror_mode": {
    "name": "ipython",
    "version": 3
   },
   "file_extension": ".py",
   "mimetype": "text/x-python",
   "name": "python",
   "nbconvert_exporter": "python",
   "pygments_lexer": "ipython3",
   "version": "3.11.7"
  }
 },
 "nbformat": 4,
 "nbformat_minor": 2
}
